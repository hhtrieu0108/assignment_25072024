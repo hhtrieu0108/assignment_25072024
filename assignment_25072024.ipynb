{
 "cells": [
  {
   "cell_type": "markdown",
   "metadata": {},
   "source": [
    "# AUTHOR: T1 TIDE"
   ]
  },
  {
   "cell_type": "markdown",
   "metadata": {},
   "source": [
    "## Create Spark"
   ]
  },
  {
   "cell_type": "markdown",
   "metadata": {},
   "source": [
    "### Import Libraries"
   ]
  },
  {
   "cell_type": "code",
   "execution_count": 1,
   "metadata": {},
   "outputs": [],
   "source": [
    "from pyspark.sql import SparkSession\n",
    "from pyspark import SparkConf\n",
    "from pyspark.sql import functions as func"
   ]
  },
  {
   "cell_type": "markdown",
   "metadata": {},
   "source": [
    "### Spark Conf"
   ]
  },
  {
   "cell_type": "code",
   "execution_count": 2,
   "metadata": {},
   "outputs": [],
   "source": [
    "conf = SparkConf().setAppName(\"Assignment 25072024\")\\\n",
    "                    .setMaster(\"local[*]\") \\\n",
    "                    .set(\"spark.executor.memory\", \"4g\") \\\n",
    "                    .set(\"spark.driver.memory\", \"4g\") \\\n",
    "                    .set(\"spark.executor.cores\", \"4\") \\\n",
    "                    .set(\"spark.driver.cores\",\"5\")"
   ]
  },
  {
   "cell_type": "markdown",
   "metadata": {},
   "source": [
    "### SparkSession"
   ]
  },
  {
   "cell_type": "code",
   "execution_count": 3,
   "metadata": {},
   "outputs": [],
   "source": [
    "spark = SparkSession.builder \\\n",
    "                    .config(conf=conf) \\\n",
    "                    .getOrCreate()"
   ]
  },
  {
   "cell_type": "markdown",
   "metadata": {},
   "source": [
    "### SparkContext"
   ]
  },
  {
   "cell_type": "code",
   "execution_count": 4,
   "metadata": {},
   "outputs": [],
   "source": [
    "sc = spark.sparkContext"
   ]
  },
  {
   "cell_type": "markdown",
   "metadata": {},
   "source": [
    "## Exercise 1\n",
    "- Given a dataset of 1000 arbitrary numbers in a text file\n",
    "- Find all prime numbers in the given dataset\n",
    "- Save result under a new text file"
   ]
  },
  {
   "cell_type": "markdown",
   "metadata": {},
   "source": [
    "### Check Prime number function"
   ]
  },
  {
   "cell_type": "code",
   "execution_count": 5,
   "metadata": {},
   "outputs": [],
   "source": [
    "from math import sqrt,ceil\n",
    "def is_prime(n):\n",
    "    if n <= 1:\n",
    "        return False\n",
    "    for i in range(2,ceil(sqrt(n))+1):\n",
    "        if n%i == 0:\n",
    "            return False\n",
    "    return True"
   ]
  },
  {
   "cell_type": "markdown",
   "metadata": {},
   "source": [
    "### No random"
   ]
  },
  {
   "cell_type": "markdown",
   "metadata": {},
   "source": [
    "#### Generate 10.000.000 number list sorted"
   ]
  },
  {
   "cell_type": "code",
   "execution_count": 6,
   "metadata": {},
   "outputs": [],
   "source": [
    "numbers_file = \"input_data/numbers.txt\""
   ]
  },
  {
   "cell_type": "code",
   "execution_count": 7,
   "metadata": {},
   "outputs": [],
   "source": [
    "# import random\n",
    "# numbers = [random.randint(1, 100000000) for _ in range(10000000)]\n",
    "numbers = list(range(1,10000001))\n",
    "# numbers = [number for number in range(1,100000001)]\n",
    "with open(numbers_file,'w+') as file:\n",
    "    for number in numbers:\n",
    "        file.write(f\"{number}\\n\")\n",
    "    file.close()"
   ]
  },
  {
   "cell_type": "code",
   "execution_count": 8,
   "metadata": {},
   "outputs": [
    {
     "data": {
      "text/plain": [
       "10000000"
      ]
     },
     "execution_count": 8,
     "metadata": {},
     "output_type": "execute_result"
    }
   ],
   "source": [
    "len(numbers)"
   ]
  },
  {
   "cell_type": "markdown",
   "metadata": {},
   "source": [
    "#### RDD"
   ]
  },
  {
   "cell_type": "code",
   "execution_count": 9,
   "metadata": {},
   "outputs": [],
   "source": [
    "prime_numbers_rdd_output_path = \"output_data/prime_numbers_rdd.txt\""
   ]
  },
  {
   "cell_type": "code",
   "execution_count": 10,
   "metadata": {},
   "outputs": [],
   "source": [
    "numbers_rdd = sc.textFile(numbers_file)"
   ]
  },
  {
   "cell_type": "code",
   "execution_count": 11,
   "metadata": {},
   "outputs": [],
   "source": [
    "numbers_rdd = numbers_rdd.map(lambda x: int(x))"
   ]
  },
  {
   "cell_type": "code",
   "execution_count": 12,
   "metadata": {},
   "outputs": [],
   "source": [
    "prime_numbers_rdd = numbers_rdd.filter(is_prime)"
   ]
  },
  {
   "cell_type": "code",
   "execution_count": 13,
   "metadata": {},
   "outputs": [],
   "source": [
    "prime_numbers_rdd = prime_numbers_rdd.repartition(12)"
   ]
  },
  {
   "cell_type": "code",
   "execution_count": 14,
   "metadata": {},
   "outputs": [],
   "source": [
    "prime_numbers_rdd.saveAsTextFile(path=prime_numbers_rdd_output_path)"
   ]
  },
  {
   "cell_type": "markdown",
   "metadata": {},
   "source": [
    "### Random"
   ]
  },
  {
   "cell_type": "code",
   "execution_count": 15,
   "metadata": {},
   "outputs": [],
   "source": [
    "numbers_random_file = \"input_data/numbers_random.txt\""
   ]
  },
  {
   "cell_type": "code",
   "execution_count": 16,
   "metadata": {},
   "outputs": [],
   "source": [
    "import random\n",
    "\n",
    "numbers_random = [random.randint(1,10000000) for _ in range(1,10000000)]\n",
    "\n",
    "with open(numbers_random_file,'w+') as file:\n",
    "    for number in numbers_random:\n",
    "        file.write(f\"{number}\\n\")"
   ]
  },
  {
   "cell_type": "code",
   "execution_count": 17,
   "metadata": {},
   "outputs": [],
   "source": [
    "numbers_random_rdd_output_path = \"output_data/prime_numbers_rdd_random.txt\""
   ]
  },
  {
   "cell_type": "code",
   "execution_count": 18,
   "metadata": {},
   "outputs": [],
   "source": [
    "numbers_rdd_random = sc.textFile(numbers_random_file)"
   ]
  },
  {
   "cell_type": "code",
   "execution_count": 19,
   "metadata": {},
   "outputs": [],
   "source": [
    "numbers_rdd_random = numbers_rdd_random.map(lambda x: int(x))"
   ]
  },
  {
   "cell_type": "code",
   "execution_count": 20,
   "metadata": {},
   "outputs": [],
   "source": [
    "prime_numbers_rdd_random = numbers_rdd_random.filter(is_prime)"
   ]
  },
  {
   "cell_type": "code",
   "execution_count": 21,
   "metadata": {},
   "outputs": [],
   "source": [
    "prime_numbers_rdd_random = prime_numbers_rdd_random.repartition(numPartitions=12)"
   ]
  },
  {
   "cell_type": "code",
   "execution_count": 22,
   "metadata": {},
   "outputs": [],
   "source": [
    "prime_numbers_rdd_random.saveAsTextFile(numbers_random_rdd_output_path)"
   ]
  },
  {
   "cell_type": "markdown",
   "metadata": {},
   "source": [
    "## Exercise 2\n",
    "- Generate a text file of 10,000 lines, each line contains a pair of (key,value)\n",
    "- Calculate the average value for each key\n",
    "- Apply GroupByKey() and ReduceByKey() Functions"
   ]
  },
  {
   "cell_type": "markdown",
   "metadata": {},
   "source": [
    "### Generate text file with 10000"
   ]
  },
  {
   "cell_type": "code",
   "execution_count": 23,
   "metadata": {},
   "outputs": [],
   "source": [
    "import random\n",
    "\n",
    "textFile_path = \"input_data/textLine.txt\"\n",
    "\n",
    "with open(textFile_path, 'w+') as file:\n",
    "    for i in range(1, 10001):\n",
    "        key = random.randint(1, 100)\n",
    "        line = f\"{key}, this is line number {i}\\n\"\n",
    "        file.write(line)"
   ]
  },
  {
   "cell_type": "code",
   "execution_count": 24,
   "metadata": {},
   "outputs": [],
   "source": [
    "rdd = sc.textFile(textFile_path)"
   ]
  },
  {
   "cell_type": "code",
   "execution_count": 25,
   "metadata": {},
   "outputs": [
    {
     "data": {
      "text/plain": [
       "['87, this is line number 1',\n",
       " '25, this is line number 2',\n",
       " '23, this is line number 3',\n",
       " '17, this is line number 4',\n",
       " '14, this is line number 5']"
      ]
     },
     "execution_count": 25,
     "metadata": {},
     "output_type": "execute_result"
    }
   ],
   "source": [
    "rdd.take(5)"
   ]
  },
  {
   "cell_type": "code",
   "execution_count": 26,
   "metadata": {},
   "outputs": [],
   "source": [
    "def convert_to_key_value(value):\n",
    "    value = (int(value.split(',')[0].strip()), value.split(',')[1].strip())\n",
    "    return value\n",
    "\n",
    "def convert_to_key_lenValue(value):\n",
    "    value = (int(value.split(',')[0].strip()), len(value.split(',')[1].strip()))\n",
    "    return value"
   ]
  },
  {
   "cell_type": "code",
   "execution_count": 27,
   "metadata": {},
   "outputs": [],
   "source": [
    "key_value_rdd = rdd.map(convert_to_key_value)"
   ]
  },
  {
   "cell_type": "code",
   "execution_count": 28,
   "metadata": {},
   "outputs": [],
   "source": [
    "key_lenValue_rdd = rdd.map(convert_to_key_lenValue)"
   ]
  },
  {
   "cell_type": "code",
   "execution_count": 29,
   "metadata": {},
   "outputs": [
    {
     "data": {
      "text/plain": [
       "[(87, 21), (25, 21), (23, 21), (17, 21), (14, 21)]"
      ]
     },
     "execution_count": 29,
     "metadata": {},
     "output_type": "execute_result"
    }
   ],
   "source": [
    "key_lenValue_rdd.take(5)"
   ]
  },
  {
   "cell_type": "markdown",
   "metadata": {},
   "source": [
    "### Group by key"
   ]
  },
  {
   "cell_type": "code",
   "execution_count": 30,
   "metadata": {},
   "outputs": [],
   "source": [
    "def sum_count(value):\n",
    "    value = (sum(value) , len(value))\n",
    "    return value\n",
    "\n",
    "def avg_cal_groupByKey(value):\n",
    "    value = value[0] / value[1]\n",
    "    return value"
   ]
  },
  {
   "cell_type": "code",
   "execution_count": 31,
   "metadata": {},
   "outputs": [],
   "source": [
    "grouped_rdd = key_lenValue_rdd.groupByKey()\n",
    "\n",
    "sum_count_rdd = grouped_rdd.mapValues(sum_count)\n",
    "\n",
    "avg_rdd_groupByKey = sum_count_rdd.mapValues(avg_cal_groupByKey)"
   ]
  },
  {
   "cell_type": "code",
   "execution_count": 32,
   "metadata": {},
   "outputs": [
    {
     "data": {
      "text/plain": [
       "[(14, (2197, 92)),\n",
       " (82, (2604, 109)),\n",
       " (100, (2603, 109)),\n",
       " (54, (2049, 86)),\n",
       " (94, (2221, 93))]"
      ]
     },
     "execution_count": 32,
     "metadata": {},
     "output_type": "execute_result"
    }
   ],
   "source": [
    "sum_count_rdd.take(5)"
   ]
  },
  {
   "cell_type": "code",
   "execution_count": 33,
   "metadata": {},
   "outputs": [
    {
     "data": {
      "text/plain": [
       "[(14, 23.880434782608695),\n",
       " (82, 23.889908256880734),\n",
       " (100, 23.880733944954127),\n",
       " (54, 23.825581395348838),\n",
       " (94, 23.881720430107528)]"
      ]
     },
     "execution_count": 33,
     "metadata": {},
     "output_type": "execute_result"
    }
   ],
   "source": [
    "avg_rdd_groupByKey.take(5)"
   ]
  },
  {
   "cell_type": "code",
   "execution_count": 34,
   "metadata": {},
   "outputs": [],
   "source": [
    "avg_groupByKey_output_path = \"output_data/avg_groupByKey.txt\""
   ]
  },
  {
   "cell_type": "code",
   "execution_count": 35,
   "metadata": {},
   "outputs": [],
   "source": [
    "avg_rdd_groupByKey.saveAsTextFile(path=avg_groupByKey_output_path)"
   ]
  },
  {
   "cell_type": "markdown",
   "metadata": {},
   "source": [
    "### Reduce by key"
   ]
  },
  {
   "cell_type": "code",
   "execution_count": 36,
   "metadata": {},
   "outputs": [],
   "source": [
    "def value_and_count(value):\n",
    "    value = (value,1)\n",
    "    return value\n",
    "\n",
    "def sum_lenValue(value_1,value_2):\n",
    "    value_1,value_2  =(value_1[0] + value_2[0], value_1[1] + value_2[1])\n",
    "    return value_1,value_2\n",
    "\n",
    "def avg_cal_reduceByKey(value):\n",
    "    value = value[0] / value[1]\n",
    "    return value"
   ]
  },
  {
   "cell_type": "code",
   "execution_count": 37,
   "metadata": {},
   "outputs": [],
   "source": [
    "sum_count_rdd = key_lenValue_rdd.mapValues(value_and_count) \\\n",
    "                                .reduceByKey(sum_lenValue)\n",
    "\n",
    "avg_rdd_reduceByKey = sum_count_rdd.mapValues(avg_cal_reduceByKey)"
   ]
  },
  {
   "cell_type": "code",
   "execution_count": 38,
   "metadata": {},
   "outputs": [
    {
     "data": {
      "text/plain": [
       "[(14, (2197, 92)),\n",
       " (82, (2604, 109)),\n",
       " (100, (2603, 109)),\n",
       " (54, (2049, 86)),\n",
       " (94, (2221, 93))]"
      ]
     },
     "execution_count": 38,
     "metadata": {},
     "output_type": "execute_result"
    }
   ],
   "source": [
    "sum_count_rdd.take(5)"
   ]
  },
  {
   "cell_type": "code",
   "execution_count": 39,
   "metadata": {},
   "outputs": [
    {
     "data": {
      "text/plain": [
       "[(14, 23.880434782608695),\n",
       " (82, 23.889908256880734),\n",
       " (100, 23.880733944954127),\n",
       " (54, 23.825581395348838),\n",
       " (94, 23.881720430107528)]"
      ]
     },
     "execution_count": 39,
     "metadata": {},
     "output_type": "execute_result"
    }
   ],
   "source": [
    "avg_rdd_reduceByKey.take(5)"
   ]
  },
  {
   "cell_type": "code",
   "execution_count": 40,
   "metadata": {},
   "outputs": [],
   "source": [
    "avg_reduceByKey_output_path = \"output_data/avg_reduceByKey.txt\""
   ]
  },
  {
   "cell_type": "code",
   "execution_count": 41,
   "metadata": {},
   "outputs": [],
   "source": [
    "avg_rdd_reduceByKey.saveAsTextFile(path=avg_reduceByKey_output_path)"
   ]
  }
 ],
 "metadata": {
  "kernelspec": {
   "display_name": "Python 3",
   "language": "python",
   "name": "python3"
  },
  "language_info": {
   "codemirror_mode": {
    "name": "ipython",
    "version": 3
   },
   "file_extension": ".py",
   "mimetype": "text/x-python",
   "name": "python",
   "nbconvert_exporter": "python",
   "pygments_lexer": "ipython3",
   "version": "3.10.9"
  }
 },
 "nbformat": 4,
 "nbformat_minor": 2
}
