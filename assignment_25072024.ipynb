{
 "cells": [
  {
   "cell_type": "markdown",
   "metadata": {},
   "source": [
    "# AUTHOR: T1 TIDE"
   ]
  },
  {
   "cell_type": "markdown",
   "metadata": {},
   "source": [
    "## Create Spark"
   ]
  },
  {
   "cell_type": "markdown",
   "metadata": {},
   "source": [
    "### Import Libraries"
   ]
  },
  {
   "cell_type": "code",
   "execution_count": 1,
   "metadata": {},
   "outputs": [],
   "source": [
    "from pyspark.sql import SparkSession\n",
    "from pyspark import SparkConf, SparkContext\n",
    "from pyspark.sql import functions as func"
   ]
  },
  {
   "cell_type": "markdown",
   "metadata": {},
   "source": [
    "### Spark Conf"
   ]
  },
  {
   "cell_type": "code",
   "execution_count": 2,
   "metadata": {},
   "outputs": [],
   "source": [
    "conf = SparkConf().set(\"spark.driver.host\", \"10.88.51.141\").set(\"spark.driver.port\",\"7077\").set(\"spark.executor.cores\",\"1\").set(\"spark.executor.memory\",\"2g\")\n",
    "\n",
    "sc = SparkContext(appName=\"Test\",conf=conf,master=\"spark://10.88.51.141:7077\")"
   ]
  },
  {
   "cell_type": "code",
   "execution_count": 3,
   "metadata": {},
   "outputs": [],
   "source": [
    "# conf = SparkConf().setAppName(\"Assignment 25072024\")\\\n",
    "#                     .setMaster(\"local[*]\") \\\n",
    "\n",
    "#                     .set(\"spark.driver.memory\", \"4g\") \\\n",
    "#                     .set(\"spark.driver.cores\",\"5\")"
   ]
  },
  {
   "cell_type": "markdown",
   "metadata": {},
   "source": [
    "### SparkSession"
   ]
  },
  {
   "cell_type": "code",
   "execution_count": 3,
   "metadata": {},
   "outputs": [
    {
     "ename": "AttributeError",
     "evalue": "'StatusTracker' object has no attribute 'getExecutorInfos'",
     "output_type": "error",
     "traceback": [
      "\u001b[1;31m---------------------------------------------------------------------------\u001b[0m",
      "\u001b[1;31mAttributeError\u001b[0m                            Traceback (most recent call last)",
      "Cell \u001b[1;32mIn[3], line 2\u001b[0m\n\u001b[0;32m      1\u001b[0m sc_ja \u001b[38;5;241m=\u001b[39m sc\u001b[38;5;241m.\u001b[39m_jsc\u001b[38;5;241m.\u001b[39msc() \n\u001b[1;32m----> 2\u001b[0m n_workers \u001b[38;5;241m=\u001b[39m  \u001b[38;5;28mlen\u001b[39m([executor\u001b[38;5;241m.\u001b[39mhost() \u001b[38;5;28;01mfor\u001b[39;00m executor \u001b[38;5;129;01min\u001b[39;00m \u001b[43msc\u001b[49m\u001b[38;5;241;43m.\u001b[39;49m\u001b[43mstatusTracker\u001b[49m\u001b[43m(\u001b[49m\u001b[43m)\u001b[49m\u001b[38;5;241;43m.\u001b[39;49m\u001b[43mgetExecutorInfos\u001b[49m() ]) \u001b[38;5;241m-\u001b[39m\u001b[38;5;241m1\u001b[39m\n\u001b[0;32m      4\u001b[0m \u001b[38;5;28mprint\u001b[39m(n_workers)\n\u001b[0;32m      6\u001b[0m \u001b[38;5;66;03m###################\u001b[39;00m\n",
      "\u001b[1;31mAttributeError\u001b[0m: 'StatusTracker' object has no attribute 'getExecutorInfos'"
     ]
    }
   ],
   "source": [
    "sc_ja = sc._jsc.sc() \n",
    "n_workers =  len([executor.host() for executor in sc.statusTracker().getExecutorInfos() ]) -1\n",
    "\n",
    "print(n_workers)\n",
    "\n",
    "###################\n",
    "sc_ja = sc._jsc.sc() \n",
    "\n",
    "result1 = sc.getExecutorMemoryStatus().keys() # will print all the executors + driver available\n",
    "\n",
    "result2 = len([executor.host() for executor in sc.statusTracker().getExecutorInfos() ]) -1\n",
    "\n",
    "print(result1, end ='\\n')\n",
    "print(result2)"
   ]
  },
  {
   "cell_type": "markdown",
   "metadata": {},
   "source": [
    "### SparkContext"
   ]
  },
  {
   "cell_type": "code",
   "execution_count": 2,
   "metadata": {},
   "outputs": [
    {
     "ename": "PySparkRuntimeError",
     "evalue": "[JAVA_GATEWAY_EXITED] Java gateway process exited before sending its port number.",
     "output_type": "error",
     "traceback": [
      "\u001b[1;31m---------------------------------------------------------------------------\u001b[0m",
      "\u001b[1;31mPySparkRuntimeError\u001b[0m                       Traceback (most recent call last)",
      "Cell \u001b[1;32mIn[2], line 1\u001b[0m\n\u001b[1;32m----> 1\u001b[0m sc \u001b[38;5;241m=\u001b[39m \u001b[43mSparkContext\u001b[49m\u001b[43m(\u001b[49m\u001b[43mappName\u001b[49m\u001b[38;5;241;43m=\u001b[39;49m\u001b[38;5;124;43m\"\u001b[39;49m\u001b[38;5;124;43mTest\u001b[39;49m\u001b[38;5;124;43m\"\u001b[39;49m\u001b[43m,\u001b[49m\u001b[43mmaster\u001b[49m\u001b[38;5;241;43m=\u001b[39;49m\u001b[38;5;124;43m\"\u001b[39;49m\u001b[38;5;124;43mspark://10.88.51.141:7077\u001b[39;49m\u001b[38;5;124;43m\"\u001b[39;49m\u001b[43m)\u001b[49m\n",
      "File \u001b[1;32mc:\\Users\\TRIEU\\AppData\\Local\\Programs\\Python\\Python310\\lib\\site-packages\\pyspark\\context.py:201\u001b[0m, in \u001b[0;36mSparkContext.__init__\u001b[1;34m(self, master, appName, sparkHome, pyFiles, environment, batchSize, serializer, conf, gateway, jsc, profiler_cls, udf_profiler_cls, memory_profiler_cls)\u001b[0m\n\u001b[0;32m    195\u001b[0m \u001b[38;5;28;01mif\u001b[39;00m gateway \u001b[38;5;129;01mis\u001b[39;00m \u001b[38;5;129;01mnot\u001b[39;00m \u001b[38;5;28;01mNone\u001b[39;00m \u001b[38;5;129;01mand\u001b[39;00m gateway\u001b[38;5;241m.\u001b[39mgateway_parameters\u001b[38;5;241m.\u001b[39mauth_token \u001b[38;5;129;01mis\u001b[39;00m \u001b[38;5;28;01mNone\u001b[39;00m:\n\u001b[0;32m    196\u001b[0m     \u001b[38;5;28;01mraise\u001b[39;00m \u001b[38;5;167;01mValueError\u001b[39;00m(\n\u001b[0;32m    197\u001b[0m         \u001b[38;5;124m\"\u001b[39m\u001b[38;5;124mYou are trying to pass an insecure Py4j gateway to Spark. This\u001b[39m\u001b[38;5;124m\"\u001b[39m\n\u001b[0;32m    198\u001b[0m         \u001b[38;5;124m\"\u001b[39m\u001b[38;5;124m is not allowed as it is a security risk.\u001b[39m\u001b[38;5;124m\"\u001b[39m\n\u001b[0;32m    199\u001b[0m     )\n\u001b[1;32m--> 201\u001b[0m \u001b[43mSparkContext\u001b[49m\u001b[38;5;241;43m.\u001b[39;49m\u001b[43m_ensure_initialized\u001b[49m\u001b[43m(\u001b[49m\u001b[38;5;28;43mself\u001b[39;49m\u001b[43m,\u001b[49m\u001b[43m \u001b[49m\u001b[43mgateway\u001b[49m\u001b[38;5;241;43m=\u001b[39;49m\u001b[43mgateway\u001b[49m\u001b[43m,\u001b[49m\u001b[43m \u001b[49m\u001b[43mconf\u001b[49m\u001b[38;5;241;43m=\u001b[39;49m\u001b[43mconf\u001b[49m\u001b[43m)\u001b[49m\n\u001b[0;32m    202\u001b[0m \u001b[38;5;28;01mtry\u001b[39;00m:\n\u001b[0;32m    203\u001b[0m     \u001b[38;5;28mself\u001b[39m\u001b[38;5;241m.\u001b[39m_do_init(\n\u001b[0;32m    204\u001b[0m         master,\n\u001b[0;32m    205\u001b[0m         appName,\n\u001b[1;32m   (...)\u001b[0m\n\u001b[0;32m    215\u001b[0m         memory_profiler_cls,\n\u001b[0;32m    216\u001b[0m     )\n",
      "File \u001b[1;32mc:\\Users\\TRIEU\\AppData\\Local\\Programs\\Python\\Python310\\lib\\site-packages\\pyspark\\context.py:436\u001b[0m, in \u001b[0;36mSparkContext._ensure_initialized\u001b[1;34m(cls, instance, gateway, conf)\u001b[0m\n\u001b[0;32m    434\u001b[0m \u001b[38;5;28;01mwith\u001b[39;00m SparkContext\u001b[38;5;241m.\u001b[39m_lock:\n\u001b[0;32m    435\u001b[0m     \u001b[38;5;28;01mif\u001b[39;00m \u001b[38;5;129;01mnot\u001b[39;00m SparkContext\u001b[38;5;241m.\u001b[39m_gateway:\n\u001b[1;32m--> 436\u001b[0m         SparkContext\u001b[38;5;241m.\u001b[39m_gateway \u001b[38;5;241m=\u001b[39m gateway \u001b[38;5;129;01mor\u001b[39;00m \u001b[43mlaunch_gateway\u001b[49m\u001b[43m(\u001b[49m\u001b[43mconf\u001b[49m\u001b[43m)\u001b[49m\n\u001b[0;32m    437\u001b[0m         SparkContext\u001b[38;5;241m.\u001b[39m_jvm \u001b[38;5;241m=\u001b[39m SparkContext\u001b[38;5;241m.\u001b[39m_gateway\u001b[38;5;241m.\u001b[39mjvm\n\u001b[0;32m    439\u001b[0m     \u001b[38;5;28;01mif\u001b[39;00m instance:\n",
      "File \u001b[1;32mc:\\Users\\TRIEU\\AppData\\Local\\Programs\\Python\\Python310\\lib\\site-packages\\pyspark\\java_gateway.py:107\u001b[0m, in \u001b[0;36mlaunch_gateway\u001b[1;34m(conf, popen_kwargs)\u001b[0m\n\u001b[0;32m    104\u001b[0m     time\u001b[38;5;241m.\u001b[39msleep(\u001b[38;5;241m0.1\u001b[39m)\n\u001b[0;32m    106\u001b[0m \u001b[38;5;28;01mif\u001b[39;00m \u001b[38;5;129;01mnot\u001b[39;00m os\u001b[38;5;241m.\u001b[39mpath\u001b[38;5;241m.\u001b[39misfile(conn_info_file):\n\u001b[1;32m--> 107\u001b[0m     \u001b[38;5;28;01mraise\u001b[39;00m PySparkRuntimeError(\n\u001b[0;32m    108\u001b[0m         error_class\u001b[38;5;241m=\u001b[39m\u001b[38;5;124m\"\u001b[39m\u001b[38;5;124mJAVA_GATEWAY_EXITED\u001b[39m\u001b[38;5;124m\"\u001b[39m,\n\u001b[0;32m    109\u001b[0m         message_parameters\u001b[38;5;241m=\u001b[39m{},\n\u001b[0;32m    110\u001b[0m     )\n\u001b[0;32m    112\u001b[0m \u001b[38;5;28;01mwith\u001b[39;00m \u001b[38;5;28mopen\u001b[39m(conn_info_file, \u001b[38;5;124m\"\u001b[39m\u001b[38;5;124mrb\u001b[39m\u001b[38;5;124m\"\u001b[39m) \u001b[38;5;28;01mas\u001b[39;00m info:\n\u001b[0;32m    113\u001b[0m     gateway_port \u001b[38;5;241m=\u001b[39m read_int(info)\n",
      "\u001b[1;31mPySparkRuntimeError\u001b[0m: [JAVA_GATEWAY_EXITED] Java gateway process exited before sending its port number."
     ]
    }
   ],
   "source": [
    "sc = SparkContext(appName=\"Test\",master=\"spark://10.88.51.141:7077\")"
   ]
  },
  {
   "cell_type": "code",
   "execution_count": 4,
   "metadata": {},
   "outputs": [],
   "source": [
    "sc = spark.sparkContext"
   ]
  },
  {
   "cell_type": "markdown",
   "metadata": {},
   "source": [
    "## Exercise 1\n",
    "- Given a dataset of 1000 arbitrary numbers in a text file\n",
    "- Find all prime numbers in the given dataset\n",
    "- Save result under a new text file"
   ]
  },
  {
   "cell_type": "markdown",
   "metadata": {},
   "source": [
    "### Check Prime number function"
   ]
  },
  {
   "cell_type": "code",
   "execution_count": 3,
   "metadata": {},
   "outputs": [],
   "source": [
    "from math import sqrt,ceil\n",
    "def is_prime(n):\n",
    "    if n <= 1:\n",
    "        return False\n",
    "    for i in range(2,ceil(sqrt(n))+1):\n",
    "        if n%i == 0:\n",
    "            return False\n",
    "    return True"
   ]
  },
  {
   "cell_type": "markdown",
   "metadata": {},
   "source": [
    "### No random"
   ]
  },
  {
   "cell_type": "markdown",
   "metadata": {},
   "source": [
    "#### Generate 10.000.000 number list sorted"
   ]
  },
  {
   "cell_type": "code",
   "execution_count": 31,
   "metadata": {},
   "outputs": [],
   "source": [
    "numbers_file = \"input_data/numbers.txt\""
   ]
  },
  {
   "cell_type": "code",
   "execution_count": 4,
   "metadata": {},
   "outputs": [],
   "source": [
    "# import random\n",
    "# numbers = [random.randint(1, 100000000) for _ in range(10000000)]\n",
    "numbers = list(range(1,10000001))\n",
    "# numbers = [number for number in range(1,100000001)]\n",
    "with open(numbers_file,'w+') as file:\n",
    "    for number in numbers:\n",
    "        file.write(f\"{number}\\n\")\n",
    "    file.close()"
   ]
  },
  {
   "cell_type": "code",
   "execution_count": 7,
   "metadata": {},
   "outputs": [
    {
     "ename": "NameError",
     "evalue": "name 'numbers' is not defined",
     "output_type": "error",
     "traceback": [
      "\u001b[1;31m---------------------------------------------------------------------------\u001b[0m",
      "\u001b[1;31mNameError\u001b[0m                                 Traceback (most recent call last)",
      "Cell \u001b[1;32mIn[7], line 1\u001b[0m\n\u001b[1;32m----> 1\u001b[0m \u001b[38;5;28mlen\u001b[39m(\u001b[43mnumbers\u001b[49m)\n",
      "\u001b[1;31mNameError\u001b[0m: name 'numbers' is not defined"
     ]
    }
   ],
   "source": [
    "len(numbers)"
   ]
  },
  {
   "cell_type": "markdown",
   "metadata": {},
   "source": [
    "#### RDD"
   ]
  },
  {
   "cell_type": "code",
   "execution_count": 32,
   "metadata": {},
   "outputs": [],
   "source": [
    "prime_numbers_rdd_output_path = \"output_data/prime_numbers_rdd.txt\""
   ]
  },
  {
   "cell_type": "code",
   "execution_count": 33,
   "metadata": {},
   "outputs": [],
   "source": [
    "numbers_rdd = sc.textFile(numbers_file)"
   ]
  },
  {
   "cell_type": "code",
   "execution_count": 34,
   "metadata": {},
   "outputs": [],
   "source": [
    "numbers_rdd = numbers_rdd.map(lambda x: int(x))"
   ]
  },
  {
   "cell_type": "code",
   "execution_count": 12,
   "metadata": {},
   "outputs": [],
   "source": [
    "prime_numbers_rdd = numbers_rdd.filter(is_prime)"
   ]
  },
  {
   "cell_type": "code",
   "execution_count": 13,
   "metadata": {},
   "outputs": [],
   "source": [
    "prime_numbers_rdd = prime_numbers_rdd.repartition(30)"
   ]
  },
  {
   "cell_type": "code",
   "execution_count": 14,
   "metadata": {},
   "outputs": [
    {
     "data": {
      "text/plain": [
       "30"
      ]
     },
     "execution_count": 14,
     "metadata": {},
     "output_type": "execute_result"
    }
   ],
   "source": [
    "prime_numbers_rdd.getNumPartitions()"
   ]
  },
  {
   "cell_type": "code",
   "execution_count": 15,
   "metadata": {},
   "outputs": [
    {
     "data": {
      "text/plain": [
       "[1301, 1303, 1307, 1319, 1321, 1327, 1361, 1367, 1373, 1381]"
      ]
     },
     "execution_count": 15,
     "metadata": {},
     "output_type": "execute_result"
    }
   ],
   "source": [
    "prime_numbers_rdd.take(10)"
   ]
  },
  {
   "cell_type": "code",
   "execution_count": 16,
   "metadata": {},
   "outputs": [
    {
     "data": {
      "text/plain": [
       "[1301,\n",
       " 1303,\n",
       " 1307,\n",
       " 1319,\n",
       " 1321,\n",
       " 1327,\n",
       " 1361,\n",
       " 1367,\n",
       " 1373,\n",
       " 1381,\n",
       " 3671,\n",
       " 3673,\n",
       " 3677,\n",
       " 3691,\n",
       " 3697,\n",
       " 3701,\n",
       " 3709,\n",
       " 3719,\n",
       " 3727,\n",
       " 3733,\n",
       " 6247,\n",
       " 6257,\n",
       " 6263,\n",
       " 6269,\n",
       " 6271,\n",
       " 6277,\n",
       " 6287,\n",
       " 6299,\n",
       " 6301,\n",
       " 6311,\n",
       " 8941,\n",
       " 8951,\n",
       " 8963,\n",
       " 8969,\n",
       " 8971,\n",
       " 8999,\n",
       " 9001,\n",
       " 9007,\n",
       " 9011,\n",
       " 9013,\n",
       " 11783,\n",
       " 11789,\n",
       " 11801,\n",
       " 11807,\n",
       " 11813,\n",
       " 11821,\n",
       " 11827,\n",
       " 11831,\n",
       " 11833,\n",
       " 11839,\n",
       " 14627,\n",
       " 14629,\n",
       " 14633,\n",
       " 14639,\n",
       " 14653,\n",
       " 14657,\n",
       " 14669,\n",
       " 14683,\n",
       " 14699,\n",
       " 14713,\n",
       " 17489,\n",
       " 17491,\n",
       " 17497,\n",
       " 17509,\n",
       " 17519,\n",
       " 17539,\n",
       " 17551,\n",
       " 17569,\n",
       " 17573,\n",
       " 17579,\n",
       " 20479,\n",
       " 20483,\n",
       " 20507,\n",
       " 20509,\n",
       " 20521,\n",
       " 20533,\n",
       " 20543,\n",
       " 20549,\n",
       " 20551,\n",
       " 20563,\n",
       " 23473,\n",
       " 23497,\n",
       " 23509,\n",
       " 23531,\n",
       " 23537,\n",
       " 23539,\n",
       " 23549,\n",
       " 23557,\n",
       " 23561,\n",
       " 23563,\n",
       " 26513,\n",
       " 26539,\n",
       " 26557,\n",
       " 26561,\n",
       " 26573,\n",
       " 26591,\n",
       " 26597,\n",
       " 26627,\n",
       " 26633,\n",
       " 26641,\n",
       " 29587,\n",
       " 29599,\n",
       " 29611,\n",
       " 29629,\n",
       " 29633,\n",
       " 29641,\n",
       " 29663,\n",
       " 29669,\n",
       " 29671,\n",
       " 29683,\n",
       " 32749,\n",
       " 32771,\n",
       " 32779,\n",
       " 32783,\n",
       " 32789,\n",
       " 32797,\n",
       " 32801,\n",
       " 32803,\n",
       " 32831,\n",
       " 32833,\n",
       " 35879,\n",
       " 35897,\n",
       " 35899,\n",
       " 35911,\n",
       " 35923,\n",
       " 35933,\n",
       " 35951,\n",
       " 35963,\n",
       " 35969,\n",
       " 35977,\n",
       " 39047,\n",
       " 39079,\n",
       " 39089,\n",
       " 39097,\n",
       " 39103,\n",
       " 39107,\n",
       " 39113,\n",
       " 39119,\n",
       " 39133,\n",
       " 39139,\n",
       " 42197,\n",
       " 42209,\n",
       " 42221,\n",
       " 42223,\n",
       " 42227,\n",
       " 42239,\n",
       " 42257,\n",
       " 42281,\n",
       " 42283,\n",
       " 42293,\n",
       " 45427,\n",
       " 45433,\n",
       " 45439,\n",
       " 45481,\n",
       " 45491,\n",
       " 45497,\n",
       " 45503,\n",
       " 45523,\n",
       " 45533,\n",
       " 45541,\n",
       " 48757,\n",
       " 48761,\n",
       " 48767,\n",
       " 48779,\n",
       " 48781,\n",
       " 48787,\n",
       " 48799,\n",
       " 48809,\n",
       " 48817,\n",
       " 48821,\n",
       " 51913,\n",
       " 51929,\n",
       " 51941,\n",
       " 51949,\n",
       " 51971,\n",
       " 51973,\n",
       " 51977,\n",
       " 51991,\n",
       " 52009,\n",
       " 52021,\n",
       " 55229,\n",
       " 55243,\n",
       " 55249,\n",
       " 55259,\n",
       " 55291,\n",
       " 55313,\n",
       " 55331,\n",
       " 55333,\n",
       " 55337,\n",
       " 55339,\n",
       " 58393,\n",
       " 58403,\n",
       " 58411,\n",
       " 58417,\n",
       " 58427,\n",
       " 58439,\n",
       " 58441,\n",
       " 58451,\n",
       " 58453,\n",
       " 58477,\n",
       " 61729,\n",
       " 61751,\n",
       " 61757,\n",
       " 61781,\n",
       " 61813,\n",
       " 61819,\n",
       " 61837,\n",
       " 61843,\n",
       " 61861,\n",
       " 61871,\n",
       " 65171,\n",
       " 65173,\n",
       " 65179,\n",
       " 65183,\n",
       " 65203,\n",
       " 65213,\n",
       " 65239,\n",
       " 65257,\n",
       " 65267,\n",
       " 65269,\n",
       " 68501,\n",
       " 68507,\n",
       " 68521,\n",
       " 68531,\n",
       " 68539,\n",
       " 68543,\n",
       " 68567,\n",
       " 68581,\n",
       " 68597,\n",
       " 68611,\n",
       " 71861,\n",
       " 71867,\n",
       " 71879,\n",
       " 71881,\n",
       " 71887,\n",
       " 71899,\n",
       " 71909,\n",
       " 71917,\n",
       " 71933,\n",
       " 71941,\n",
       " 75217,\n",
       " 75223,\n",
       " 75227,\n",
       " 75239,\n",
       " 75253,\n",
       " 75269,\n",
       " 75277,\n",
       " 75289,\n",
       " 75307,\n",
       " 75323,\n",
       " 78583,\n",
       " 78593,\n",
       " 78607,\n",
       " 78623,\n",
       " 78643,\n",
       " 78649,\n",
       " 78653,\n",
       " 78691,\n",
       " 78697,\n",
       " 78707,\n",
       " 81937,\n",
       " 81943,\n",
       " 81953,\n",
       " 81967,\n",
       " 81971,\n",
       " 81973,\n",
       " 82003,\n",
       " 82007,\n",
       " 82009,\n",
       " 82013,\n",
       " 85381,\n",
       " 85411,\n",
       " 85427,\n",
       " 85429,\n",
       " 85439,\n",
       " 85447,\n",
       " 85451,\n",
       " 85453,\n",
       " 85469,\n",
       " 85487,\n",
       " 88897,\n",
       " 88903,\n",
       " 88919,\n",
       " 88937,\n",
       " 88951,\n",
       " 88969,\n",
       " 88993,\n",
       " 88997,\n",
       " 89003,\n",
       " 89009,\n",
       " 92269,\n",
       " 92297,\n",
       " 92311,\n",
       " 92317,\n",
       " 92333,\n",
       " 92347,\n",
       " 92353,\n",
       " 92357,\n",
       " 92363,\n",
       " 92369,\n",
       " 95561,\n",
       " 95569,\n",
       " 95581,\n",
       " 95597,\n",
       " 95603,\n",
       " 95617,\n",
       " 95621,\n",
       " 95629,\n",
       " 95633,\n",
       " 95651,\n",
       " 99083,\n",
       " 99089,\n",
       " 99103,\n",
       " 99109,\n",
       " 99119,\n",
       " 99131,\n",
       " 99133,\n",
       " 99137,\n",
       " 99139,\n",
       " 99149,\n",
       " 102481,\n",
       " 102497,\n",
       " 102499,\n",
       " 102503,\n",
       " 102523,\n",
       " 102533,\n",
       " 102539,\n",
       " 102547,\n",
       " 102551,\n",
       " 102559,\n",
       " 106103,\n",
       " 106109,\n",
       " 106121,\n",
       " 106123,\n",
       " 106129,\n",
       " 106163,\n",
       " 106181,\n",
       " 106187,\n",
       " 106189,\n",
       " 106207,\n",
       " 109519,\n",
       " 109537,\n",
       " 109541,\n",
       " 109547,\n",
       " 109567,\n",
       " 109579,\n",
       " 109583,\n",
       " 109589,\n",
       " 109597,\n",
       " 109609,\n",
       " 113083,\n",
       " 113089,\n",
       " 113093,\n",
       " 113111,\n",
       " 113117,\n",
       " 113123,\n",
       " 113131,\n",
       " 113143,\n",
       " 113147,\n",
       " 113149,\n",
       " 116593,\n",
       " 116639,\n",
       " 116657,\n",
       " 116663,\n",
       " 116681,\n",
       " 116687,\n",
       " 116689,\n",
       " 116707,\n",
       " 116719,\n",
       " 116731,\n",
       " 120103,\n",
       " 120121,\n",
       " 120157,\n",
       " 120163,\n",
       " 120167,\n",
       " 120181,\n",
       " 120193,\n",
       " 120199,\n",
       " 120209,\n",
       " 120223,\n",
       " 123553,\n",
       " 123581,\n",
       " 123583,\n",
       " 123593,\n",
       " 123601,\n",
       " 123619,\n",
       " 123631,\n",
       " 123637,\n",
       " 123653,\n",
       " 123661,\n",
       " 127157,\n",
       " 127163,\n",
       " 127189,\n",
       " 127207,\n",
       " 127217,\n",
       " 127219,\n",
       " 127241,\n",
       " 127247,\n",
       " 127249,\n",
       " 127261,\n",
       " 130579,\n",
       " 130589,\n",
       " 130619,\n",
       " 130621,\n",
       " 130631,\n",
       " 130633,\n",
       " 130639,\n",
       " 130643,\n",
       " 130649,\n",
       " 130651,\n",
       " 134191,\n",
       " 134207,\n",
       " 134213,\n",
       " 134219,\n",
       " 134227,\n",
       " 134243,\n",
       " 134257,\n",
       " 134263,\n",
       " 134269,\n",
       " 134287,\n",
       " 137633,\n",
       " 137639,\n",
       " 137653,\n",
       " 137659,\n",
       " 137699,\n",
       " 137707,\n",
       " 137713,\n",
       " 137723,\n",
       " 137737,\n",
       " 137743,\n",
       " 141199,\n",
       " 141209,\n",
       " 141221,\n",
       " 141223,\n",
       " 141233,\n",
       " 141241,\n",
       " 141257,\n",
       " 141263,\n",
       " 141269,\n",
       " 141277,\n",
       " 144883,\n",
       " 144887,\n",
       " 144889,\n",
       " 144899,\n",
       " 144917,\n",
       " 144931,\n",
       " 144941,\n",
       " 144961,\n",
       " 144967,\n",
       " 144973,\n",
       " 148471,\n",
       " 148483,\n",
       " 148501,\n",
       " 148513,\n",
       " 148517,\n",
       " 148531,\n",
       " 148537,\n",
       " 148549,\n",
       " 148573,\n",
       " 148579,\n",
       " 151847,\n",
       " 151849,\n",
       " 151871,\n",
       " 151883,\n",
       " 151897,\n",
       " 151901,\n",
       " 151903,\n",
       " 151909,\n",
       " 151937,\n",
       " 151939,\n",
       " 155461,\n",
       " 155473,\n",
       " 155501,\n",
       " 155509,\n",
       " 155521,\n",
       " 155537,\n",
       " 155539,\n",
       " 155557,\n",
       " 155569,\n",
       " 155579,\n",
       " 159179,\n",
       " 159191,\n",
       " 159193,\n",
       " 159199,\n",
       " 159209,\n",
       " 159223,\n",
       " 159227,\n",
       " 159233,\n",
       " 159287,\n",
       " 159293,\n",
       " 162751,\n",
       " 162779,\n",
       " 162787,\n",
       " 162791,\n",
       " 162821,\n",
       " 162823,\n",
       " 162829,\n",
       " 162839,\n",
       " 162847,\n",
       " 162853,\n",
       " 166541,\n",
       " 166561,\n",
       " 166567,\n",
       " 166571,\n",
       " 166597,\n",
       " 166601,\n",
       " 166603,\n",
       " 166609,\n",
       " 166613,\n",
       " 166619,\n",
       " 170189,\n",
       " 170197,\n",
       " 170207,\n",
       " 170213,\n",
       " 170227,\n",
       " 170231,\n",
       " 170239,\n",
       " 170243,\n",
       " 170249,\n",
       " 170263,\n",
       " 173743,\n",
       " 173773,\n",
       " 173777,\n",
       " 173779,\n",
       " 173783,\n",
       " 173807,\n",
       " 173819,\n",
       " 173827,\n",
       " 173839,\n",
       " 173851,\n",
       " 177347,\n",
       " 177379,\n",
       " 177383,\n",
       " 177409,\n",
       " 177421,\n",
       " 177427,\n",
       " 177431,\n",
       " 177433,\n",
       " 177467,\n",
       " 177473,\n",
       " 180949,\n",
       " 180959,\n",
       " 181001,\n",
       " 181003,\n",
       " 181019,\n",
       " 181031,\n",
       " 181039,\n",
       " 181061,\n",
       " 181063,\n",
       " 181081,\n",
       " 184607,\n",
       " 184609,\n",
       " 184627,\n",
       " 184631,\n",
       " 184633,\n",
       " 184649,\n",
       " 184651,\n",
       " 184669,\n",
       " 184687,\n",
       " 184693,\n",
       " 188171,\n",
       " 188179,\n",
       " 188189,\n",
       " 188197,\n",
       " 188249,\n",
       " 188261,\n",
       " 188273,\n",
       " 188281,\n",
       " 188291,\n",
       " 188299,\n",
       " 191801,\n",
       " 191803,\n",
       " 191827,\n",
       " 191831,\n",
       " 191833,\n",
       " 191837,\n",
       " 191861,\n",
       " 191899,\n",
       " 191903,\n",
       " 191911,\n",
       " 195427,\n",
       " 195443,\n",
       " 195457,\n",
       " 195469,\n",
       " 195479,\n",
       " 195493,\n",
       " 195497,\n",
       " 195511,\n",
       " 195527,\n",
       " 195539,\n",
       " 199049,\n",
       " 199081,\n",
       " 199103,\n",
       " 199109,\n",
       " 199151,\n",
       " 199153,\n",
       " 199181,\n",
       " 199193,\n",
       " 199207,\n",
       " 199211,\n",
       " 202841,\n",
       " 202859,\n",
       " 202877,\n",
       " 202879,\n",
       " 202889,\n",
       " 202907,\n",
       " 202921,\n",
       " 202931,\n",
       " 202933,\n",
       " 202949,\n",
       " 206489,\n",
       " 206501,\n",
       " 206519,\n",
       " 206527,\n",
       " 206543,\n",
       " 206551,\n",
       " 206593,\n",
       " 206597,\n",
       " 206603,\n",
       " 206623,\n",
       " 210053,\n",
       " 210071,\n",
       " 210097,\n",
       " 210101,\n",
       " 210109,\n",
       " 210113,\n",
       " 210127,\n",
       " 210131,\n",
       " 210139,\n",
       " 210143,\n",
       " 213827,\n",
       " 213833,\n",
       " 213847,\n",
       " 213859,\n",
       " 213881,\n",
       " 213887,\n",
       " 213901,\n",
       " 213919,\n",
       " 213929,\n",
       " 213943,\n",
       " 217561,\n",
       " 217573,\n",
       " 217577,\n",
       " 217579,\n",
       " 217619,\n",
       " 217643,\n",
       " 217661,\n",
       " 217667,\n",
       " 217681,\n",
       " 217687,\n",
       " 221203,\n",
       " 221209,\n",
       " 221219,\n",
       " 221227,\n",
       " 221233,\n",
       " 221239,\n",
       " 221251,\n",
       " 221261,\n",
       " 221281,\n",
       " 221303,\n",
       " 224909,\n",
       " 224911,\n",
       " 224921,\n",
       " 224929,\n",
       " 224947,\n",
       " 224951,\n",
       " 224969,\n",
       " 224977,\n",
       " 224993,\n",
       " 225023,\n",
       " 228593,\n",
       " 228601,\n",
       " 228611,\n",
       " 228617,\n",
       " 228619,\n",
       " 228637,\n",
       " 228647,\n",
       " 228677,\n",
       " 228707,\n",
       " 228713,\n",
       " 232129,\n",
       " 232153,\n",
       " 232171,\n",
       " 232187,\n",
       " 232189,\n",
       " 232207,\n",
       " 232217,\n",
       " 232259,\n",
       " 232303,\n",
       " 232307,\n",
       " 236077,\n",
       " 236087,\n",
       " 236107,\n",
       " 236111,\n",
       " 236129,\n",
       " 236143,\n",
       " 236153,\n",
       " 236167,\n",
       " 236207,\n",
       " 236209,\n",
       " 239873,\n",
       " 239879,\n",
       " 239893,\n",
       " 239929,\n",
       " 239933,\n",
       " 239947,\n",
       " 239957,\n",
       " 239963,\n",
       " 239977,\n",
       " 239999,\n",
       " 243553,\n",
       " 243577,\n",
       " 243583,\n",
       " 243587,\n",
       " 243589,\n",
       " 243613,\n",
       " 243623,\n",
       " 243631,\n",
       " 243643,\n",
       " 243647,\n",
       " 247241,\n",
       " 247249,\n",
       " 247259,\n",
       " 247279,\n",
       " 247301,\n",
       " 247309,\n",
       " 247337,\n",
       " 247339,\n",
       " 247343,\n",
       " 247363,\n",
       " 250967,\n",
       " 250969,\n",
       " 250979,\n",
       " 250993,\n",
       " 251003,\n",
       " 251033,\n",
       " 251051,\n",
       " 251057,\n",
       " 251059,\n",
       " 251063,\n",
       " 254741,\n",
       " 254747,\n",
       " 254753,\n",
       " 254773,\n",
       " 254777,\n",
       " 254783,\n",
       " 254791,\n",
       " 254803,\n",
       " 254827,\n",
       " 254831,\n",
       " 258437,\n",
       " 258443,\n",
       " 258449,\n",
       " 258469,\n",
       " 258487,\n",
       " 258491,\n",
       " 258499,\n",
       " 258521,\n",
       " 258527,\n",
       " 258539,\n",
       " 262303,\n",
       " 262313,\n",
       " 262321,\n",
       " 262331,\n",
       " 262337,\n",
       " 262349,\n",
       " 262351,\n",
       " 262369,\n",
       " 262387,\n",
       " 262391,\n",
       " 266027,\n",
       " 266029,\n",
       " 266047,\n",
       " 266051,\n",
       " 266053,\n",
       " 266059,\n",
       " 266081,\n",
       " 266083,\n",
       " 266089,\n",
       " 266093,\n",
       " 269561,\n",
       " 269573,\n",
       " 269579,\n",
       " 269597,\n",
       " 269617,\n",
       " 269623,\n",
       " 269641,\n",
       " 269651,\n",
       " 269663,\n",
       " 269683,\n",
       " 273289,\n",
       " 273311,\n",
       " 273313,\n",
       " 273323,\n",
       " 273349,\n",
       " 273359,\n",
       " 273367,\n",
       " 273433,\n",
       " 273457,\n",
       " 273473,\n",
       " 277097,\n",
       " 277099,\n",
       " 277157,\n",
       " 277163,\n",
       " 277169,\n",
       " 277177,\n",
       " 277183,\n",
       " 277213,\n",
       " 277217,\n",
       " 277223,\n",
       " 280933,\n",
       " 280939,\n",
       " 280949,\n",
       " 280957,\n",
       " 280963,\n",
       " 280967,\n",
       " 280979,\n",
       " 280997,\n",
       " 281023,\n",
       " 281033,\n",
       " 284659,\n",
       " 284681,\n",
       " 284689,\n",
       " 284701,\n",
       " 284707,\n",
       " 284723,\n",
       " 284729,\n",
       " 284731,\n",
       " 284737,\n",
       " 284741,\n",
       " 288661,\n",
       " 288679,\n",
       " 288683,\n",
       " 288689,\n",
       " 288697,\n",
       " 288731,\n",
       " 288733,\n",
       " 288751,\n",
       " 288767,\n",
       " 288773,\n",
       " 292363,\n",
       " 292367,\n",
       " 292381,\n",
       " 292393,\n",
       " 292427,\n",
       " 292441,\n",
       " 292459,\n",
       " 292469,\n",
       " 292471,\n",
       " 292477,\n",
       " 296269,\n",
       " 296273,\n",
       " 296279,\n",
       " 296287,\n",
       " 296299,\n",
       " 296347,\n",
       " 296353,\n",
       " 296363,\n",
       " 296369,\n",
       " 296377,\n",
       " 300193,\n",
       " 300221,\n",
       " 300229,\n",
       " 300233,\n",
       " 300239,\n",
       " 300247,\n",
       " 300277,\n",
       " 300299,\n",
       " 300301,\n",
       " 300317,\n",
       " 303859,\n",
       " 303871,\n",
       " 303889,\n",
       " 303907,\n",
       " 303917,\n",
       " 303931,\n",
       " 303937,\n",
       " 303959,\n",
       " 303983,\n",
       " 303997,\n",
       " 307511,\n",
       " 307523,\n",
       " 307529,\n",
       " 307537,\n",
       " 307543,\n",
       " 307577,\n",
       " 307583,\n",
       " 307589,\n",
       " 307609,\n",
       " 307627,\n",
       " 311453,\n",
       " 311473,\n",
       " 311533,\n",
       " 311537,\n",
       " 311539,\n",
       " 311551,\n",
       " 311557,\n",
       " 311561,\n",
       " 311567,\n",
       " 311569,\n",
       " 315223,\n",
       " 315247,\n",
       " 315251,\n",
       " 315257,\n",
       " 315269,\n",
       " 315281,\n",
       " 315313,\n",
       " 315349,\n",
       " 315361,\n",
       " 315373,\n",
       " 318841,\n",
       " 318863,\n",
       " 318881,\n",
       " 318883,\n",
       " 318889,\n",
       " 318907,\n",
       " 318911,\n",
       " 318917,\n",
       " 318919,\n",
       " 318949,\n",
       " 322549,\n",
       " 322559,\n",
       " 322571,\n",
       " 322573,\n",
       " 322583,\n",
       " 322589,\n",
       " 322591,\n",
       " 322607,\n",
       " 322613,\n",
       " 322627,\n",
       " 326257,\n",
       " 326309,\n",
       " 326323,\n",
       " 326351,\n",
       " 326353,\n",
       " 326369,\n",
       " 326437,\n",
       " 326441,\n",
       " 326449,\n",
       " 326467,\n",
       " 330067,\n",
       " 330097,\n",
       " 330103,\n",
       " 330131,\n",
       " 330133,\n",
       " 330139,\n",
       " 330149,\n",
       " 330167,\n",
       " 330199,\n",
       " 330203,\n",
       " 333911,\n",
       " 333923,\n",
       " 333929,\n",
       " 333941,\n",
       " 333959,\n",
       " 333973,\n",
       " 333989,\n",
       " 333997,\n",
       " 334021,\n",
       " 334031,\n",
       " 337691,\n",
       " 337697,\n",
       " 337721,\n",
       " 337741,\n",
       " 337751,\n",
       " 337759,\n",
       " 337781,\n",
       " 337793,\n",
       " 337817,\n",
       " 337837,\n",
       " 341603,\n",
       " 341617,\n",
       " 341623,\n",
       " 341629,\n",
       " 341641,\n",
       " 341647,\n",
       " 341659,\n",
       " 341681,\n",
       " 341687,\n",
       " 341701,\n",
       " 345487,\n",
       " 345511,\n",
       " 345517,\n",
       " 345533,\n",
       " 345547,\n",
       " 345551,\n",
       " 345571,\n",
       " 345577,\n",
       " 345581,\n",
       " 345599,\n",
       " 349207,\n",
       " 349211,\n",
       " 349241,\n",
       " 349291,\n",
       " 349303,\n",
       " 349313,\n",
       " 349331,\n",
       " 349337,\n",
       " 349343,\n",
       " 349357,\n",
       " ...]"
      ]
     },
     "execution_count": 16,
     "metadata": {},
     "output_type": "execute_result"
    }
   ],
   "source": [
    "prime_numbers_rdd.collect()"
   ]
  },
  {
   "cell_type": "code",
   "execution_count": 15,
   "metadata": {},
   "outputs": [
    {
     "name": "stdout",
     "output_type": "stream",
     "text": [
      "CPU times: total: 31.2 ms\n",
      "Wall time: 7.18 s\n"
     ]
    }
   ],
   "source": [
    "%%time\n",
    "prime_numbers_rdd.saveAsTextFile(path=prime_numbers_rdd_output_path)"
   ]
  },
  {
   "cell_type": "markdown",
   "metadata": {},
   "source": [
    "### Random"
   ]
  },
  {
   "cell_type": "code",
   "execution_count": 4,
   "metadata": {},
   "outputs": [],
   "source": [
    "numbers_random_file = \"input_data/numbers_random.txt\""
   ]
  },
  {
   "cell_type": "code",
   "execution_count": 17,
   "metadata": {},
   "outputs": [],
   "source": [
    "import random\n",
    "\n",
    "numbers_random = [random.randint(1,10000000) for _ in range(1,10000000)]\n",
    "\n",
    "with open(numbers_random_file,'w+') as file:\n",
    "    for number in numbers_random:\n",
    "        file.write(f\"{number}\\n\")"
   ]
  },
  {
   "cell_type": "code",
   "execution_count": 5,
   "metadata": {},
   "outputs": [],
   "source": [
    "numbers_random_rdd_output_path = \"output_data/prime_numbers_rdd_random.txt\""
   ]
  },
  {
   "cell_type": "code",
   "execution_count": 6,
   "metadata": {},
   "outputs": [],
   "source": [
    "numbers_rdd_random = sc.textFile(numbers_random_file)"
   ]
  },
  {
   "cell_type": "code",
   "execution_count": 7,
   "metadata": {},
   "outputs": [],
   "source": [
    "numbers_rdd_random = numbers_rdd_random.map(lambda x: int(x))"
   ]
  },
  {
   "cell_type": "code",
   "execution_count": 8,
   "metadata": {},
   "outputs": [],
   "source": [
    "prime_numbers_rdd_random = numbers_rdd_random.filter(is_prime)"
   ]
  },
  {
   "cell_type": "code",
   "execution_count": 9,
   "metadata": {},
   "outputs": [],
   "source": [
    "prime_numbers_rdd_random = prime_numbers_rdd_random.repartition(numPartitions=15)"
   ]
  },
  {
   "cell_type": "code",
   "execution_count": 10,
   "metadata": {},
   "outputs": [
    {
     "data": {
      "text/plain": [
       "[7249247,\n",
       " 4925653,\n",
       " 3564061,\n",
       " 155627,\n",
       " 1814611,\n",
       " 7729549,\n",
       " 6949633,\n",
       " 2658779,\n",
       " 679279,\n",
       " 6476161]"
      ]
     },
     "execution_count": 10,
     "metadata": {},
     "output_type": "execute_result"
    }
   ],
   "source": [
    "prime_numbers_rdd_random.take(10)"
   ]
  },
  {
   "cell_type": "code",
   "execution_count": 24,
   "metadata": {},
   "outputs": [
    {
     "name": "stdout",
     "output_type": "stream",
     "text": [
      "CPU times: total: 62.5 ms\n",
      "Wall time: 6.97 s\n"
     ]
    }
   ],
   "source": [
    "%%time\n",
    "prime_numbers_rdd_random.saveAsTextFile(numbers_random_rdd_output_path)"
   ]
  },
  {
   "cell_type": "markdown",
   "metadata": {},
   "source": [
    "## Exercise 2\n",
    "- Generate a text file of 10,000 lines, each line contains a pair of (key,value)\n",
    "- Calculate the average value for each key\n",
    "- Apply GroupByKey() and ReduceByKey() Functions"
   ]
  },
  {
   "cell_type": "markdown",
   "metadata": {},
   "source": [
    "### Generate text file with 10000"
   ]
  },
  {
   "cell_type": "code",
   "execution_count": 25,
   "metadata": {},
   "outputs": [],
   "source": [
    "import random\n",
    "\n",
    "textFile_path = \"input_data/textLine.txt\"\n",
    "\n",
    "with open(textFile_path, 'w+') as file:\n",
    "    for i in range(1, 10001):\n",
    "        key = random.randint(1, 100)\n",
    "        line = f\"{key}, this is line number {i}\\n\"\n",
    "        file.write(line)"
   ]
  },
  {
   "cell_type": "code",
   "execution_count": 37,
   "metadata": {},
   "outputs": [],
   "source": [
    "textFile_path = \"input_data/textLine.txt\"\n",
    "rdd = sc.textFile(textFile_path)"
   ]
  },
  {
   "cell_type": "code",
   "execution_count": 38,
   "metadata": {},
   "outputs": [
    {
     "data": {
      "text/plain": [
       "['49, this is line number 1',\n",
       " '10, this is line number 2',\n",
       " '39, this is line number 3',\n",
       " '86, this is line number 4',\n",
       " '69, this is line number 5']"
      ]
     },
     "execution_count": 38,
     "metadata": {},
     "output_type": "execute_result"
    }
   ],
   "source": [
    "rdd.take(5)"
   ]
  },
  {
   "cell_type": "code",
   "execution_count": 39,
   "metadata": {},
   "outputs": [],
   "source": [
    "def convert_to_key_value(value):\n",
    "    value = (int(value.split(',')[0].strip()), value.split(',')[1].strip())\n",
    "    return value\n",
    "\n",
    "def convert_to_key_lenValue(value):\n",
    "    value = (int(value.split(',')[0].strip()), len(value.split(',')[1].strip()))\n",
    "    return value"
   ]
  },
  {
   "cell_type": "code",
   "execution_count": 40,
   "metadata": {},
   "outputs": [],
   "source": [
    "key_value_rdd = rdd.map(convert_to_key_value)"
   ]
  },
  {
   "cell_type": "code",
   "execution_count": 41,
   "metadata": {},
   "outputs": [],
   "source": [
    "key_lenValue_rdd = rdd.map(convert_to_key_lenValue)"
   ]
  },
  {
   "cell_type": "code",
   "execution_count": 42,
   "metadata": {},
   "outputs": [
    {
     "data": {
      "text/plain": [
       "[(49, 21), (10, 21), (39, 21), (86, 21), (69, 21)]"
      ]
     },
     "execution_count": 42,
     "metadata": {},
     "output_type": "execute_result"
    }
   ],
   "source": [
    "key_lenValue_rdd.take(5)"
   ]
  },
  {
   "cell_type": "markdown",
   "metadata": {},
   "source": [
    "### Group by key"
   ]
  },
  {
   "cell_type": "code",
   "execution_count": 43,
   "metadata": {},
   "outputs": [],
   "source": [
    "def sum_count(value):\n",
    "    value = (sum(value) , len(value))\n",
    "    return value\n",
    "\n",
    "def avg_cal_groupByKey(value):\n",
    "    value = value[0] / value[1]\n",
    "    return value"
   ]
  },
  {
   "cell_type": "code",
   "execution_count": 44,
   "metadata": {},
   "outputs": [
    {
     "data": {
      "text/plain": [
       "[(10, 23.86868686868687),\n",
       " (86, 23.846153846153847),\n",
       " (18, 23.8018018018018),\n",
       " (82, 23.852631578947367),\n",
       " (50, 23.855555555555554)]"
      ]
     },
     "execution_count": 44,
     "metadata": {},
     "output_type": "execute_result"
    }
   ],
   "source": [
    "grouped_rdd = key_lenValue_rdd.groupByKey()\n",
    "\n",
    "sum_count_rdd = grouped_rdd.mapValues(sum_count)\n",
    "\n",
    "avg_rdd_groupByKey = sum_count_rdd.mapValues(avg_cal_groupByKey)\n",
    "\n",
    "avg_rdd_groupByKey.take(5)"
   ]
  },
  {
   "cell_type": "code",
   "execution_count": 34,
   "metadata": {},
   "outputs": [
    {
     "name": "stdout",
     "output_type": "stream",
     "text": [
      "CPU times: total: 0 ns\n",
      "Wall time: 625 ms\n"
     ]
    },
    {
     "data": {
      "text/plain": [
       "[(10, (2363, 99)),\n",
       " (86, (2480, 104)),\n",
       " (18, (2642, 111)),\n",
       " (82, (2266, 95)),\n",
       " (50, (2147, 90))]"
      ]
     },
     "execution_count": 34,
     "metadata": {},
     "output_type": "execute_result"
    }
   ],
   "source": [
    "%%time\n",
    "sum_count_rdd.take(5)"
   ]
  },
  {
   "cell_type": "code",
   "execution_count": 35,
   "metadata": {},
   "outputs": [
    {
     "name": "stdout",
     "output_type": "stream",
     "text": [
      "CPU times: total: 0 ns\n",
      "Wall time: 631 ms\n"
     ]
    },
    {
     "data": {
      "text/plain": [
       "[(10, 23.86868686868687),\n",
       " (86, 23.846153846153847),\n",
       " (18, 23.8018018018018),\n",
       " (82, 23.852631578947367),\n",
       " (50, 23.855555555555554)]"
      ]
     },
     "execution_count": 35,
     "metadata": {},
     "output_type": "execute_result"
    }
   ],
   "source": [
    "%%time\n",
    "avg_rdd_groupByKey.take(5)"
   ]
  },
  {
   "cell_type": "code",
   "execution_count": 36,
   "metadata": {},
   "outputs": [],
   "source": [
    "avg_groupByKey_output_path = \"output_data/avg_groupByKey.txt\""
   ]
  },
  {
   "cell_type": "code",
   "execution_count": 37,
   "metadata": {},
   "outputs": [],
   "source": [
    "avg_rdd_groupByKey.saveAsTextFile(path=avg_groupByKey_output_path)"
   ]
  },
  {
   "cell_type": "markdown",
   "metadata": {},
   "source": [
    "### Reduce by key"
   ]
  },
  {
   "cell_type": "code",
   "execution_count": 45,
   "metadata": {},
   "outputs": [],
   "source": [
    "def value_and_count(value):\n",
    "    value = (value,1)\n",
    "    return value\n",
    "\n",
    "def sum_lenValue(value_1,value_2):\n",
    "    value_1,value_2  =(value_1[0] + value_2[0], value_1[1] + value_2[1])\n",
    "    return value_1,value_2\n",
    "\n",
    "def avg_cal_reduceByKey(value):\n",
    "    value = value[0] / value[1]\n",
    "    return value"
   ]
  },
  {
   "cell_type": "code",
   "execution_count": 46,
   "metadata": {},
   "outputs": [
    {
     "data": {
      "text/plain": [
       "[(10, 23.86868686868687),\n",
       " (86, 23.846153846153847),\n",
       " (18, 23.8018018018018),\n",
       " (82, 23.852631578947367),\n",
       " (50, 23.855555555555554)]"
      ]
     },
     "execution_count": 46,
     "metadata": {},
     "output_type": "execute_result"
    }
   ],
   "source": [
    "sum_count_rdd = key_lenValue_rdd.mapValues(value_and_count) \\\n",
    "                                .reduceByKey(sum_lenValue)\n",
    "\n",
    "avg_rdd_reduceByKey = sum_count_rdd.mapValues(avg_cal_reduceByKey)\n",
    "\n",
    "avg_rdd_reduceByKey.take(5)"
   ]
  },
  {
   "cell_type": "code",
   "execution_count": 48,
   "metadata": {},
   "outputs": [
    {
     "data": {
      "text/plain": [
       "[(10, (2363, 99)),\n",
       " (86, (2480, 104)),\n",
       " (18, (2642, 111)),\n",
       " (82, (2266, 95)),\n",
       " (50, (2147, 90))]"
      ]
     },
     "execution_count": 48,
     "metadata": {},
     "output_type": "execute_result"
    }
   ],
   "source": [
    "sum_count_rdd.take(5)"
   ]
  },
  {
   "cell_type": "code",
   "execution_count": 49,
   "metadata": {},
   "outputs": [
    {
     "data": {
      "text/plain": [
       "[(10, 23.86868686868687),\n",
       " (86, 23.846153846153847),\n",
       " (18, 23.8018018018018),\n",
       " (82, 23.852631578947367),\n",
       " (50, 23.855555555555554)]"
      ]
     },
     "execution_count": 49,
     "metadata": {},
     "output_type": "execute_result"
    }
   ],
   "source": [
    "\n",
    "avg_rdd_reduceByKey.take(5)"
   ]
  },
  {
   "cell_type": "code",
   "execution_count": 50,
   "metadata": {},
   "outputs": [
    {
     "data": {
      "text/plain": [
       "[(10, 23.86868686868687),\n",
       " (86, 23.846153846153847),\n",
       " (18, 23.8018018018018),\n",
       " (82, 23.852631578947367),\n",
       " (50, 23.855555555555554),\n",
       " (94, 23.914893617021278),\n",
       " (44, 23.88888888888889),\n",
       " (80, 23.846153846153847),\n",
       " (48, 23.942528735632184),\n",
       " (2, 23.876190476190477),\n",
       " (6, 23.87735849056604),\n",
       " (76, 23.85217391304348),\n",
       " (100, 23.87719298245614),\n",
       " (62, 23.925619834710744),\n",
       " (54, 23.9375),\n",
       " (60, 23.866666666666667),\n",
       " (46, 23.9),\n",
       " (38, 23.876543209876544),\n",
       " (20, 23.918181818181818),\n",
       " (8, 23.87962962962963),\n",
       " (4, 23.893617021276597),\n",
       " (42, 23.880434782608695),\n",
       " (90, 23.858585858585858),\n",
       " (26, 23.910569105691057),\n",
       " (14, 23.870967741935484),\n",
       " (30, 23.90625),\n",
       " (68, 23.892857142857142),\n",
       " (70, 23.905982905982906),\n",
       " (64, 23.921348314606742),\n",
       " (78, 23.945652173913043),\n",
       " (96, 23.92222222222222),\n",
       " (40, 23.887931034482758),\n",
       " (28, 23.894736842105264),\n",
       " (12, 23.91919191919192),\n",
       " (72, 23.858823529411765),\n",
       " (24, 23.94736842105263),\n",
       " (92, 23.840425531914892),\n",
       " (88, 23.92391304347826),\n",
       " (34, 23.956989247311828),\n",
       " (74, 23.877777777777776),\n",
       " (56, 23.86021505376344),\n",
       " (58, 23.903225806451612),\n",
       " (98, 23.882978723404257),\n",
       " (32, 23.91304347826087),\n",
       " (84, 23.875),\n",
       " (16, 23.892857142857142),\n",
       " (66, 23.916666666666668),\n",
       " (52, 23.89516129032258),\n",
       " (22, 23.93421052631579),\n",
       " (36, 23.887755102040817),\n",
       " (49, 23.855855855855857),\n",
       " (39, 23.861386138613863),\n",
       " (69, 23.92222222222222),\n",
       " (95, 23.8659793814433),\n",
       " (17, 23.864077669902912),\n",
       " (59, 23.823529411764707),\n",
       " (61, 23.833333333333332),\n",
       " (3, 23.862745098039216),\n",
       " (1, 23.864864864864863),\n",
       " (81, 23.85576923076923),\n",
       " (51, 23.89108910891089),\n",
       " (25, 23.891304347826086),\n",
       " (29, 23.91),\n",
       " (33, 23.904347826086955),\n",
       " (71, 23.853211009174313),\n",
       " (7, 23.834862385321102),\n",
       " (57, 23.896551724137932),\n",
       " (63, 23.854166666666668),\n",
       " (41, 23.897435897435898),\n",
       " (21, 23.853932584269664),\n",
       " (19, 23.891666666666666),\n",
       " (93, 23.91),\n",
       " (47, 23.872340425531913),\n",
       " (97, 23.90625),\n",
       " (79, 23.82608695652174),\n",
       " (43, 23.903846153846153),\n",
       " (53, 23.876288659793815),\n",
       " (15, 23.936842105263157),\n",
       " (9, 23.88888888888889),\n",
       " (75, 23.895833333333332),\n",
       " (23, 23.893805309734514),\n",
       " (13, 23.864077669902912),\n",
       " (91, 23.876404494382022),\n",
       " (99, 23.87735849056604),\n",
       " (45, 23.87878787878788),\n",
       " (27, 23.86813186813187),\n",
       " (65, 23.94392523364486),\n",
       " (73, 23.871559633027523),\n",
       " (87, 23.897196261682243),\n",
       " (77, 23.95098039215686),\n",
       " (89, 23.9009009009009),\n",
       " (11, 23.896551724137932),\n",
       " (85, 23.956043956043956),\n",
       " (55, 23.92105263157895),\n",
       " (67, 23.90625),\n",
       " (31, 23.88095238095238),\n",
       " (37, 23.9468085106383),\n",
       " (83, 23.92222222222222),\n",
       " (5, 23.923809523809524),\n",
       " (35, 23.932038834951456)]"
      ]
     },
     "execution_count": 50,
     "metadata": {},
     "output_type": "execute_result"
    }
   ],
   "source": [
    "\n",
    "avg_rdd_reduceByKey.collect()"
   ]
  },
  {
   "cell_type": "code",
   "execution_count": 42,
   "metadata": {},
   "outputs": [],
   "source": [
    "avg_reduceByKey_output_path = \"output_data/avg_reduceByKey.txt\""
   ]
  },
  {
   "cell_type": "code",
   "execution_count": 43,
   "metadata": {},
   "outputs": [],
   "source": [
    "avg_rdd_reduceByKey.saveAsTextFile(path=avg_reduceByKey_output_path)"
   ]
  },
  {
   "cell_type": "markdown",
   "metadata": {},
   "source": [
    "# Join and Filter"
   ]
  },
  {
   "cell_type": "code",
   "execution_count": 3,
   "metadata": {},
   "outputs": [
    {
     "name": "stdout",
     "output_type": "stream",
     "text": [
      "Approach 1 result: [(1, (-1, 31)), (5, (-12, 17))]\n",
      "Approach 1 time: 14.39007019996643\n"
     ]
    }
   ],
   "source": [
    "import time\n",
    "RDD_A = sc.parallelize([(1, -1), (2, 20), (3, 3), (4, 0), (5, -12)])\n",
    "RDD_B = sc.parallelize([(1, 31), (2, 3), (3, 0), (4, -2), (5, 17)])\n",
    "\n",
    "# Convert RDDs to key-value pairs\n",
    "RDD_A = RDD_A.map(lambda x: (x[0], x[1]))\n",
    "RDD_B = RDD_B.map(lambda x: (x[0], x[1]))\n",
    "\n",
    "# Approach 1: Join then Filter\n",
    "start_time = time.time()\n",
    "\n",
    "# Join the RDDs\n",
    "joined_RDD = RDD_A.join(RDD_B)\n",
    "\n",
    "# Filter the joined RDD\n",
    "result_RDD_1 = joined_RDD.filter(lambda x: x[1][0] <= 0 and x[1][1] > 5)\n",
    "\n",
    "# Collect and print the result\n",
    "result_1 = result_RDD_1.collect()\n",
    "end_time = time.time()\n",
    "approach_1_time = end_time - start_time\n",
    "print(\"Approach 1 result:\", result_1)\n",
    "print(\"Approach 1 time:\", approach_1_time)"
   ]
  },
  {
   "cell_type": "markdown",
   "metadata": {},
   "source": [
    "# Filter and Join"
   ]
  },
  {
   "cell_type": "code",
   "execution_count": 4,
   "metadata": {},
   "outputs": [
    {
     "name": "stdout",
     "output_type": "stream",
     "text": [
      "Approach 2 result: [(1, (-1, 31)), (5, (-12, 17))]\n",
      "Approach 2 time: 55.57658004760742\n"
     ]
    }
   ],
   "source": [
    "# Filter RDD_A\n",
    "first_time = time.time()\n",
    "filtered_RDD_A = RDD_A.filter(lambda x: x[1] <= 0)\n",
    "\n",
    "# Filter RDD_B\n",
    "filtered_RDD_B = RDD_B.filter(lambda x: x[1] > 5)\n",
    "\n",
    "# Join the filtered RDDs\n",
    "result_RDD_2 = filtered_RDD_A.join(filtered_RDD_B)\n",
    "\n",
    "# Collect and print the result\n",
    "result_2 = result_RDD_2.collect()\n",
    "end_time = time.time()\n",
    "approach_2_time = end_time - start_time\n",
    "print(\"Approach 2 result:\", result_2)\n",
    "print(\"Approach 2 time:\", approach_2_time)"
   ]
  },
  {
   "cell_type": "code",
   "execution_count": 54,
   "metadata": {},
   "outputs": [
    {
     "name": "stdout",
     "output_type": "stream",
     "text": [
      "\n",
      "Performance Comparison:\n",
      "Approach 1 time: 39.3829 seconds\n",
      "Approach 2 time: 145.0557 seconds\n",
      "Approach 1 is faster.\n"
     ]
    }
   ],
   "source": [
    "# Print comparison\n",
    "print(\"\\nPerformance Comparison:\")\n",
    "print(f\"Approach 1 time: {approach_1_time:.4f} seconds\")\n",
    "print(f\"Approach 2 time: {approach_2_time:.4f} seconds\")\n",
    "if approach_1_time < approach_2_time:\n",
    "    print(\"Approach 1 is faster.\")\n",
    "else:\n",
    "    print(\"Approach 2 is faster.\")"
   ]
  },
  {
   "cell_type": "code",
   "execution_count": null,
   "metadata": {},
   "outputs": [],
   "source": []
  }
 ],
 "metadata": {
  "kernelspec": {
   "display_name": "Python 3",
   "language": "python",
   "name": "python3"
  },
  "language_info": {
   "codemirror_mode": {
    "name": "ipython",
    "version": 3
   },
   "file_extension": ".py",
   "mimetype": "text/x-python",
   "name": "python",
   "nbconvert_exporter": "python",
   "pygments_lexer": "ipython3",
   "version": "3.10.9"
  }
 },
 "nbformat": 4,
 "nbformat_minor": 2
}
